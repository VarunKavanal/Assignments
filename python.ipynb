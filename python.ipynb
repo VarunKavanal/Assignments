{
  "nbformat": 4,
  "nbformat_minor": 0,
  "metadata": {
    "colab": {
      "provenance": []
    },
    "kernelspec": {
      "name": "python3",
      "display_name": "Python 3"
    },
    "language_info": {
      "name": "python"
    }
  },
  "cells": [
    {
      "cell_type": "markdown",
      "source": [
        "# Functions Assigment\n",
        "\n",
        "Q.1 What are functions in python?\n",
        "  - answer\n",
        "  - answer2\n",
        "\n",
        "\"\"\"\n",
        "haha\n",
        "\"\"\"\n"
      ],
      "metadata": {
        "id": "b22eB98oEDt7"
      }
    },
    {
      "cell_type": "code",
      "execution_count": null,
      "metadata": {
        "id": "w33tjA5OD4jw"
      },
      "outputs": [],
      "source": [
        "\"\"\"\n",
        "haha\n",
        "\"\"\"\n",
        "# quetiiosn"
      ]
    }
  ]
}